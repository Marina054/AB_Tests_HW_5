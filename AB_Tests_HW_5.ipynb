{
 "cells": [
  {
   "cell_type": "markdown",
   "id": "33f01679",
   "metadata": {},
   "source": [
    "# Задание 1"
   ]
  },
  {
   "cell_type": "markdown",
   "id": "a2d2e5af",
   "metadata": {},
   "source": [
    "## Вы провели эксперимент c упрощением формы заказа в магазине Утконос и получили результаты по метрике конверсий в покупку. Выберите метод оценки и оцените есть ли стат.значимые различия между конверсиями в двух группах при alpha = 5%. Дайте краткие рекомендации команде .Результаты: 1)Число юзеров в группах , которые заходили на сайт в период эксперимента: n1 = 15550 и n2 = 15550 . 2) Число юзеров в группах , которые совершили хотя бы одну покупку за период эксперимента: n1 = 164 и n2 = 228 3) Конверсии : conv1 = 1.05% conv2 = 1.47% ."
   ]
  },
  {
   "cell_type": "code",
   "execution_count": 42,
   "id": "2a157cec",
   "metadata": {},
   "outputs": [],
   "source": [
    "import numpy as np\n",
    "import plotly.graph_objects as go"
   ]
  },
  {
   "cell_type": "markdown",
   "id": "dff18bbf",
   "metadata": {},
   "source": [
    "H0: Между конверсиями в двух группах нет статистически значимых различий\n",
    "\n",
    "H1: Между конверсиями в двух гркппах есть различия."
   ]
  },
  {
   "cell_type": "code",
   "execution_count": 57,
   "id": "271bc4de",
   "metadata": {},
   "outputs": [
    {
     "data": {
      "text/plain": [
       "0.0017210902166048432"
      ]
     },
     "execution_count": 57,
     "metadata": {},
     "output_type": "execute_result"
    }
   ],
   "source": [
    "a = 0.0147 - 0.0105 - (1.96 * np.sqrt(0.0105 * ((1- 0.0105) / 15550) + 0.0147 * ((1 - 0.0147) / 15550)))\n",
    "a"
   ]
  },
  {
   "cell_type": "code",
   "execution_count": 58,
   "id": "c6ae4676",
   "metadata": {},
   "outputs": [
    {
     "data": {
      "text/plain": [
       "0.1721090216604843"
      ]
     },
     "execution_count": 58,
     "metadata": {},
     "output_type": "execute_result"
    }
   ],
   "source": [
    "a * 100 "
   ]
  },
  {
   "cell_type": "code",
   "execution_count": 59,
   "id": "4a766044",
   "metadata": {},
   "outputs": [
    {
     "data": {
      "text/plain": [
       "0.0066789097833951545"
      ]
     },
     "execution_count": 59,
     "metadata": {},
     "output_type": "execute_result"
    }
   ],
   "source": [
    "b = 0.0147 - 0.0105 + (1.96 * np.sqrt(0.0105 * ((1- 0.0105) / 15550) + 0.0147 * ((1 - 0.0147) / 15550)))\n",
    "b"
   ]
  },
  {
   "cell_type": "code",
   "execution_count": 60,
   "id": "50d8e02f",
   "metadata": {},
   "outputs": [
    {
     "data": {
      "text/plain": [
       "0.6678909783395155"
      ]
     },
     "execution_count": 60,
     "metadata": {},
     "output_type": "execute_result"
    }
   ],
   "source": [
    "b * 100"
   ]
  },
  {
   "cell_type": "markdown",
   "id": "6df55d56",
   "metadata": {},
   "source": [
    "#### Вывод: Интервал [0.17% ; 0.66%] Т.к ноль не попадает в интервал есть статистически значимой разнца между группами."
   ]
  },
  {
   "cell_type": "markdown",
   "id": "5b7db96b",
   "metadata": {},
   "source": [
    "# Задание 2\n"
   ]
  },
  {
   "cell_type": "markdown",
   "id": "f4eb9936",
   "metadata": {},
   "source": [
    "## Сравниваем метрику конверсия в покупку. Размер выборки - 10000 элементов в каждой группе . Какой статистический критерий тут лучше всего подойдёт и почему ?"
   ]
  },
  {
   "cell_type": "markdown",
   "id": "55f8453e",
   "metadata": {},
   "source": [
    "Конверсия колличественный тип данных -> распределение нормальное -> зависимые -> если две группы, то T-критерий Стьюдента; если 3 и более, то дисперсионный анализ."
   ]
  },
  {
   "cell_type": "code",
   "execution_count": null,
   "id": "af4a495c",
   "metadata": {},
   "outputs": [],
   "source": []
  }
 ],
 "metadata": {
  "kernelspec": {
   "display_name": "Python 3 (ipykernel)",
   "language": "python",
   "name": "python3"
  },
  "language_info": {
   "codemirror_mode": {
    "name": "ipython",
    "version": 3
   },
   "file_extension": ".py",
   "mimetype": "text/x-python",
   "name": "python",
   "nbconvert_exporter": "python",
   "pygments_lexer": "ipython3",
   "version": "3.9.13"
  }
 },
 "nbformat": 4,
 "nbformat_minor": 5
}
